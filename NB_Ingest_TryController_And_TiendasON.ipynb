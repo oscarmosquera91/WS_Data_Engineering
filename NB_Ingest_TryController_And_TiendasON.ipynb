{
 "cells": [
  {
   "cell_type": "code",
   "execution_count": 1,
   "id": "4f800368-f222-4098-86fd-661e1669eab9",
   "metadata": {
    "microsoft": {
     "language": "python",
     "language_group": "jupyter_python"
    }
   },
   "outputs": [
    {
     "data": {
      "application/vnd.jupyter.statement-meta+json": {
       "execution_finish_time": "2025-10-08T19:57:53.9311779Z",
       "execution_start_time": "2025-10-08T19:57:53.5118006Z",
       "normalized_state": "finished",
       "parent_msg_id": "60aa1f3e-c5a5-4d4f-9669-449e416c515d",
       "queued_time": "2025-10-08T19:57:50.1858823Z",
       "session_id": "e881861e-5ebc-43e2-981f-df952041e211",
       "session_start_time": "2025-10-08T19:57:50.1867733Z"
      }
     },
     "metadata": {},
     "output_type": "display_data"
    }
   ],
   "source": [
    "# %%configure -f\n",
    "# {\n",
    "#     \"vCores\": 4, \n",
    "#     \"mountPoints\": [\n",
    " \n",
    "#     ],\n",
    "# }\n",
    "\n",
    "\n",
    "\n"
   ]
  },
  {
   "cell_type": "code",
   "execution_count": 2,
   "id": "21fd6813-177f-4dfe-9001-546fb58257e2",
   "metadata": {
    "microsoft": {
     "language": "python",
     "language_group": "jupyter_python"
    }
   },
   "outputs": [
    {
     "data": {
      "application/vnd.jupyter.statement-meta+json": {
       "execution_finish_time": "2025-10-08T19:57:54.3351221Z",
       "execution_start_time": "2025-10-08T19:57:53.9322292Z",
       "normalized_state": "finished",
       "parent_msg_id": "5038ec51-9715-438f-ba91-d089058e1185",
       "queued_time": "2025-10-08T19:57:50.2781826Z",
       "session_id": "e881861e-5ebc-43e2-981f-df952041e211",
       "session_start_time": null
      }
     },
     "metadata": {},
     "output_type": "display_data"
    }
   ],
   "source": [
    "# %%configure -f\n",
    "# {\n",
    "#     \"vCores\": 4, \n",
    "#     \"defaultLakehouse\": {          \n",
    "#         \"name\": \"LH_CommonCode\"\n",
    "#     },\n",
    "#     \"mountPoints\": [\n",
    " \n",
    "#     ],\n",
    "# }"
   ]
  },
  {
   "cell_type": "markdown",
   "id": "fbcfb958-14aa-4fd5-bcf6-5509a8523b7b",
   "metadata": {
    "microsoft": {
     "language": "python",
     "language_group": "jupyter_python"
    },
    "nteract": {
     "transient": {
      "deleting": false
     }
    }
   },
   "source": [
    "# **Librerias** \n",
    "\n",
    "- Se implementan los import necesario para el notebook \n",
    "- Las funciones generales se alojan sobre el Lakehouse LH_CommonCode\n"
   ]
  },
  {
   "cell_type": "code",
   "execution_count": null,
   "id": "b50e2cd0-5684-453a-9738-9e1fec21a580",
   "metadata": {
    "microsoft": {
     "language": "python",
     "language_group": "jupyter_python"
    }
   },
   "outputs": [
    {
     "data": {
      "application/vnd.jupyter.statement-meta+json": {
       "execution_finish_time": "2025-10-08T19:58:00.0078018Z",
       "execution_start_time": "2025-10-08T19:57:54.3362945Z",
       "normalized_state": "finished",
       "parent_msg_id": "d4b3583d-1005-435d-8e59-eefdc34d7a5e",
       "queued_time": "2025-10-08T19:57:50.4064566Z",
       "session_id": "e881861e-5ebc-43e2-981f-df952041e211",
       "session_start_time": null
      }
     },
     "metadata": {},
     "output_type": "display_data"
    }
   ],
   "source": [
    "# Welcome to your new notebook\n",
    "# Type here in the cell editor to add code!\n",
    "\n",
    "\n",
    "# import sys\n",
    "# sys.path.append(\"/lakehouse/default/Files/code_utils\")\n",
    "from logger_utils import log, set_logging \n",
    "from logging_utils import log_operation\n",
    "from db_utils import FabricConnectionManager, create_db_connection\n",
    "from sql_repository import get_connections_partner, get_connections_db\n",
    "from ingestion_utils import get_schedules, get_last_watermark, get_current_watermark, get_valid_columns, get_sql_table_schema, save_data, fetch_data, fetch_data_pagination, fetch_all_data, process_platform_connection, procces_project, get_sql_table_schema_database\n",
    "from format_utils import get_current_day, pandas_time_to_str, sanitize_for_pandas, format_datetime_for_sqlserver, clean_data\n",
    "from partition_utils import get_block_number, get_block, get_batches, get_block_number_in_window\n",
    "from concurrent.futures import ThreadPoolExecutor, as_completed\n",
    "import uuid\n",
    "from watermark_utils import get_all_last_watermarks, get_last_watermark_from_cache\n",
    "\n"
   ]
  },
  {
   "cell_type": "markdown",
   "id": "a7117040-de79-4114-b4dc-2cf00aa4f5da",
   "metadata": {
    "microsoft": {
     "language": "python",
     "language_group": "jupyter_python"
    },
    "nteract": {
     "transient": {
      "deleting": false
     }
    }
   },
   "source": [
    "# **Configuración logger** \n",
    "\n",
    "- Se permite configurar a nivel de log que se muetra durante la ejecución \n",
    "\n",
    "\n",
    "#### Mostrar solo warnings y errores\n",
    "\n",
    "- set_logging(enabled=True, level=\"WARNING\")\n",
    "\n",
    "#### Activar todos los logs para debugging\n",
    "set_logging(enabled=True, level=\"DEBUG\")\n",
    "\n",
    "#### Ejemplo de uso\n",
    "log(\"✅ Ejemplo de uso success.\", level=\"info\") \n",
    "\n",
    "log(\"⚠️ Ejemplo de uso warning.\", level=\"warning\") \n",
    "\n",
    "log(f\"❌ Ejemplo de uso eror: {{e}}\", level=\"error\") "
   ]
  },
  {
   "cell_type": "code",
   "execution_count": 4,
   "id": "ad5757bd-c1dc-46f9-87f2-d7902298d6fc",
   "metadata": {
    "microsoft": {
     "language": "python",
     "language_group": "jupyter_python"
    }
   },
   "outputs": [
    {
     "data": {
      "application/vnd.jupyter.statement-meta+json": {
       "execution_finish_time": "2025-10-08T19:58:00.4247044Z",
       "execution_start_time": "2025-10-08T19:58:00.0090381Z",
       "normalized_state": "finished",
       "parent_msg_id": "3cf98db0-af5f-45de-a56e-38086ca89c78",
       "queued_time": "2025-10-08T19:57:50.5541777Z",
       "session_id": "e881861e-5ebc-43e2-981f-df952041e211",
       "session_start_time": null
      }
     },
     "metadata": {},
     "output_type": "display_data"
    },
    {
     "name": "stderr",
     "output_type": "stream",
     "text": [
      "2025-10-08 19:58:00,054 - INFO - 🔧 Logging activado con nivel DEBUG\n"
     ]
    }
   ],
   "source": [
    "# Activar todos los logs para debugging\n",
    "set_logging(enabled=True, level=\"DEBUG\")\n"
   ]
  },
  {
   "cell_type": "markdown",
   "id": "c1ed7dc9-872b-45f2-9ab0-f6a16cdf3f56",
   "metadata": {
    "microsoft": {
     "language": "python",
     "language_group": "jupyter_python"
    },
    "nteract": {
     "transient": {
      "deleting": false
     }
    }
   },
   "source": [
    "# **Main**\n",
    "\n",
    "- Esta celda se encarga de iniciar el proceso de ingesta de los productos TryController y TryTiendas a nivel de plataforma y base de datos. Segun la franja horaria parametrizada, el sistema determina si la ejecución se realiza dentro de este horario, de ser así, identifica según la cantidad bloque configuradas que plataformas a que plataformas corresponde realizar la ingesta "
   ]
  },
  {
   "cell_type": "code",
   "execution_count": 5,
   "id": "20f7bd16-699b-4a19-86e9-a46c904f4f55",
   "metadata": {
    "microsoft": {
     "language": "python",
     "language_group": "jupyter_python"
    }
   },
   "outputs": [
    {
     "data": {
      "application/vnd.jupyter.statement-meta+json": {
       "execution_finish_time": null,
       "execution_start_time": "2025-10-08T19:58:00.4258134Z",
       "normalized_state": "running",
       "parent_msg_id": "fda6fe99-9922-4b54-b7c5-ecab3ea78b29",
       "queued_time": "2025-10-08T19:57:50.6683926Z",
       "session_id": "e881861e-5ebc-43e2-981f-df952041e211",
       "session_start_time": null
      }
     },
     "metadata": {},
     "output_type": "display_data"
    },
    {
     "name": "stderr",
     "output_type": "stream",
     "text": [
      "2025-10-08 19:58:01,357 - INFO - ✅ Conexion satisfactoria al servidor trycontroller-db1.database.windows.net | db TryController_X\n",
      "2025-10-08 19:58:15,526 - INFO - ✅ Conexión satisfactoria | db DB_Engineering | intento 1\n",
      "2025-10-08 19:58:15,531 - INFO - ✅ Nueva conexión creada para sql_DB_Engineering\n",
      "2025-10-08 19:58:15,532 - INFO - ✅ Obtiene los procesos programados según el corte del día.\n",
      "/lakehouse/default/Files/code_utils/ingestion_utils.py:36: UserWarning: pandas only supports SQLAlchemy connectable (engine/connection) or database string URI or sqlite3 DBAPI2 connection. Other DBAPI2 objects are not tested. Please consider using SQLAlchemy.\n",
      "  df_schedules = pd.read_sql(\"SELECT * FROM DataOn.VwGetSchedule;\", _con)\n",
      "/lakehouse/default/Files/code_utils/ingestion_utils.py:37: UserWarning: pandas only supports SQLAlchemy connectable (engine/connection) or database string URI or sqlite3 DBAPI2 connection. Other DBAPI2 objects are not tested. Please consider using SQLAlchemy.\n",
      "  df_keysByTable = pd.read_sql(\"SELECT * FROM DataOn.keysByTable;\", _con)\n",
      "/lakehouse/default/Files/code_utils/ingestion_utils.py:38: UserWarning: pandas only supports SQLAlchemy connectable (engine/connection) or database string URI or sqlite3 DBAPI2 connection. Other DBAPI2 objects are not tested. Please consider using SQLAlchemy.\n",
      "  df_PartitionFields = pd.read_sql(\"SELECT * FROM DataOn.PartitionFields;\", _con)\n",
      "2025-10-08 19:58:15,739 - INFO - ✅ Se obtuvieron los horarios de ejecución correctamente.\n",
      "2025-10-08 19:58:15,741 - INFO - 🏗️ Proyecto: TiendasOn | databases\n",
      "2025-10-08 19:58:15,742 - INFO - 🔄 Obteniendo todas las conexiones...\n",
      "2025-10-08 19:58:16,484 - INFO - ✅ Se obtuvieron 1 conexiones.\n",
      "2025-10-08 19:58:16,487 - INFO - ✅ Conexion satisfactoria al servidor trycontroller-db1.database.windows.net | db Try_Tiendas_VC\n",
      "2025-10-08 19:58:16,489 - INFO - 🔹 PLATFORM → Try_Tiendas_VC | Recurso Generals_DocumentsTypes | Proyecto: TiendasOn | Obteniendo Schema\n",
      "2025-10-08 19:58:16,490 - INFO - Usando schema de resource: adm\n",
      "2025-10-08 19:58:17,513 - INFO - 🔹 PLATFORM → Try_Tiendas_VC | Recurso Generals_InvBrands | Proyecto: TiendasOn | Obteniendo Schema\n",
      "2025-10-08 19:58:17,514 - INFO - Usando schema de resource: adm\n",
      "2025-10-08 19:58:17,658 - INFO - 🔹 PLATFORM → Try_Tiendas_VC | Recurso Generals_InvCategory | Proyecto: TiendasOn | Obteniendo Schema\n",
      "2025-10-08 19:58:17,660 - INFO - Usando schema de resource: adm\n",
      "2025-10-08 19:58:17,803 - INFO - 🔹 PLATFORM → Try_Tiendas_VC | Recurso Generals_InvSubCategory | Proyecto: TiendasOn | Obteniendo Schema\n",
      "2025-10-08 19:58:17,804 - INFO - Usando schema de resource: adm\n",
      "2025-10-08 19:58:17,951 - INFO - 🔹 PLATFORM → Try_Tiendas_VC | Recurso Generals_InvUnitsMeasures | Proyecto: TiendasOn | Obteniendo Schema\n",
      "2025-10-08 19:58:17,952 - INFO - Usando schema de resource: adm\n",
      "2025-10-08 19:58:18,076 - INFO - 🔹 PLATFORM → Try_Tiendas_VC | Recurso Survey_SurveyAnswers | Proyecto: TiendasOn | Obteniendo Schema\n",
      "2025-10-08 19:58:18,077 - INFO - Usando schema de resource: adm\n",
      "2025-10-08 19:58:18,201 - INFO - 🔹 PLATFORM → Try_Tiendas_VC | Recurso Survey_SurveyClientType | Proyecto: TiendasOn | Obteniendo Schema\n",
      "2025-10-08 19:58:18,202 - INFO - Usando schema de resource: adm\n",
      "2025-10-08 19:58:18,325 - INFO - 🔹 PLATFORM → Try_Tiendas_VC | Recurso Survey_SurveyQuestions | Proyecto: TiendasOn | Obteniendo Schema\n",
      "2025-10-08 19:58:18,326 - INFO - Usando schema de resource: adm\n",
      "2025-10-08 19:58:18,449 - INFO - 🔹 PLATFORM → Try_Tiendas_VC | Recurso Survey_SurveyReasons | Proyecto: TiendasOn | Obteniendo Schema\n",
      "2025-10-08 19:58:18,450 - INFO - Usando schema de resource: adm\n",
      "2025-10-08 19:58:18,573 - INFO - 🔹 PLATFORM → Try_Tiendas_VC | Recurso Survey_SurveySource | Proyecto: TiendasOn | Obteniendo Schema\n",
      "2025-10-08 19:58:18,575 - INFO - Usando schema de resource: adm\n",
      "2025-10-08 19:58:18,697 - INFO - 🔹 PLATFORM → Try_Tiendas_VC | Recurso Survey_SurveyTextContents | Proyecto: TiendasOn | Obteniendo Schema\n",
      "2025-10-08 19:58:18,698 - INFO - Usando schema de resource: adm\n",
      "2025-10-08 19:58:18,821 - INFO - 🔹 PLATFORM → Try_Tiendas_VC | Recurso Survey_SurveyType | Proyecto: TiendasOn | Obteniendo Schema\n",
      "2025-10-08 19:58:18,822 - INFO - Usando schema de resource: adm\n",
      "2025-10-08 19:58:18,953 - INFO - 🔹 PLATFORM → Try_Tiendas_VC | Recurso Survey_Surveys | Proyecto: TiendasOn | Obteniendo Schema\n",
      "2025-10-08 19:58:18,954 - INFO - Usando schema de resource: adm\n",
      "2025-10-08 19:58:19,400 - INFO - ✅ Conexión satisfactoria | db DB_Engineering | intento 1\n",
      "2025-10-08 19:58:19,406 - INFO - ✅ Nueva conexión creada para sql_DB_Engineering\n",
      "/lakehouse/default/Files/code_utils/watermark_utils.py:31: UserWarning: pandas only supports SQLAlchemy connectable (engine/connection) or database string URI or sqlite3 DBAPI2 connection. Other DBAPI2 objects are not tested. Please consider using SQLAlchemy.\n",
      "  df_watermarks = pd.read_sql(query, _conn_mgr_fabric.get_sql_connection())\n",
      "2025-10-08 19:58:19,846 - INFO - ✅ Se obtuvieron 25928 registros de watermarks\n",
      "2025-10-08 19:58:19,847 - INFO - 🚀 Procesando batch 1 de 1 con 1 plataformas\n",
      "2025-10-08 19:58:19,848 - INFO - ➡ [1/3] Iniciando 0 Try_Tiendas_VC en trycontroller-db1.database.windows.net\n",
      "2025-10-08 19:58:19,850 - INFO - ✅ Conexion satisfactoria al servidor trycontroller-db1.database.windows.net | db Try_Tiendas_VC\n",
      "2025-10-08 19:58:19,853 - INFO - 🔹 PLATFORM → 0 | Recurso Generals_DocumentsTypes | Proyecto: TiendasOn\n",
      "2025-10-08 19:58:19,854 - INFO - Usando schema de resource: adm\n",
      "2025-10-08 19:58:20,430 - INFO - ✅ Watermark encontrado para partner=0, tabla=DocumentsTypes\n",
      "2025-10-08 19:58:20,524 - INFO - Ejecutando consulta en DocumentsTypes | Incremental: True | Last Watermark: 30 | Current Watermark: 30\n",
      "2025-10-08 19:58:20,618 - INFO - ✅ PLATFORM → 0 | DocumentsTypes | Se extrajeron 0 registros de la tabla DocumentsTypes | Plataforma  0\n",
      "2025-10-08 19:58:20,868 - INFO - ✅ Conexión satisfactoria | db DB_Engineering | intento 1\n",
      "2025-10-08 19:58:20,873 - INFO - ✅ Nueva conexión creada para sql_DB_Engineering\n",
      "2025-10-08 19:58:20,926 - INFO - 🔹 PLATFORM → 0 | Recurso Generals_InvBrands | Proyecto: TiendasOn\n",
      "2025-10-08 19:58:20,927 - INFO - Usando schema de resource: adm\n",
      "2025-10-08 19:58:21,057 - INFO - Ejecutando consulta en InvBrands | Incremental: False | Last Watermark: None | Current Watermark: None\n",
      "2025-10-08 19:58:21,292 - INFO - ✅ PLATFORM → 0 | InvBrands | Se extrajeron 2482 registros de la tabla InvBrands | Plataforma  0\n",
      "2025-10-08 19:58:21,609 - INFO - ✅ Conexión satisfactoria | db DB_Engineering | intento 1\n",
      "2025-10-08 19:58:21,610 - INFO - ✅ Nueva conexión creada para sql_DB_Engineering\n",
      "2025-10-08 19:58:21,625 - INFO - 🔹 PLATFORM → 0 | Recurso Generals_InvCategory | Proyecto: TiendasOn\n",
      "2025-10-08 19:58:21,626 - INFO - Usando schema de resource: adm\n",
      "2025-10-08 19:58:21,756 - INFO - Ejecutando consulta en InvCategory | Incremental: False | Last Watermark: None | Current Watermark: None\n",
      "2025-10-08 19:58:21,940 - INFO - ✅ PLATFORM → 0 | InvCategory | Se extrajeron 25 registros de la tabla InvCategory | Plataforma  0\n",
      "2025-10-08 19:58:21,945 - INFO - ✅ Conexión satisfactoria | db DB_Engineering | intento 1\n",
      "2025-10-08 19:58:21,945 - INFO - ✅ Nueva conexión creada para sql_DB_Engineering\n",
      "2025-10-08 19:58:21,955 - INFO - 🔹 PLATFORM → 0 | Recurso Generals_InvSubCategory | Proyecto: TiendasOn\n",
      "2025-10-08 19:58:21,955 - INFO - Usando schema de resource: adm\n",
      "2025-10-08 19:58:22,085 - INFO - Ejecutando consulta en InvSubCategory | Incremental: False | Last Watermark: None | Current Watermark: None\n",
      "2025-10-08 19:58:22,269 - INFO - ✅ PLATFORM → 0 | InvSubCategory | Se extrajeron 92 registros de la tabla InvSubCategory | Plataforma  0\n",
      "2025-10-08 19:58:22,569 - INFO - ✅ Conexión satisfactoria | db DB_Engineering | intento 1\n",
      "2025-10-08 19:58:22,570 - INFO - ✅ Nueva conexión creada para sql_DB_Engineering\n",
      "2025-10-08 19:58:22,581 - INFO - 🔹 PLATFORM → 0 | Recurso Generals_InvUnitsMeasures | Proyecto: TiendasOn\n",
      "2025-10-08 19:58:22,582 - INFO - Usando schema de resource: adm\n",
      "2025-10-08 19:58:22,699 - INFO - ✅ Watermark encontrado para partner=0, tabla=InvUnitsMeasures\n",
      "2025-10-08 19:58:22,792 - INFO - Ejecutando consulta en InvUnitsMeasures | Incremental: True | Last Watermark: 1000 | Current Watermark: 1000\n",
      "2025-10-08 19:58:22,884 - INFO - ✅ PLATFORM → 0 | InvUnitsMeasures | Se extrajeron 0 registros de la tabla InvUnitsMeasures | Plataforma  0\n",
      "2025-10-08 19:58:22,891 - INFO - ✅ Conexión satisfactoria | db DB_Engineering | intento 1\n",
      "2025-10-08 19:58:22,892 - INFO - ✅ Nueva conexión creada para sql_DB_Engineering\n",
      "2025-10-08 19:58:22,902 - INFO - 🔹 PLATFORM → 0 | Recurso Survey_SurveyAnswers | Proyecto: TiendasOn\n",
      "2025-10-08 19:58:22,903 - INFO - Usando schema de resource: adm\n",
      "2025-10-08 19:58:23,022 - INFO - ✅ Watermark encontrado para partner=0, tabla=SurveyAnswers\n",
      "2025-10-08 19:58:23,118 - INFO - Ejecutando consulta en SurveyAnswers | Incremental: True | Last Watermark: 2025-05-07 14:00:27.443 | Current Watermark: 2025-05-07 14:00:27.443\n",
      "2025-10-08 19:58:23,216 - INFO - ✅ PLATFORM → 0 | SurveyAnswers | Se extrajeron 0 registros de la tabla SurveyAnswers | Plataforma  0\n",
      "2025-10-08 19:58:23,519 - INFO - ✅ Conexión satisfactoria | db DB_Engineering | intento 1\n",
      "2025-10-08 19:58:23,520 - INFO - ✅ Nueva conexión creada para sql_DB_Engineering\n",
      "2025-10-08 19:58:23,530 - INFO - 🔹 PLATFORM → 0 | Recurso Survey_SurveyClientType | Proyecto: TiendasOn\n",
      "2025-10-08 19:58:23,531 - INFO - Usando schema de resource: adm\n",
      "2025-10-08 19:58:23,650 - INFO - ✅ Watermark encontrado para partner=0, tabla=SurveyClientType\n",
      "2025-10-08 19:58:23,743 - INFO - Ejecutando consulta en SurveyClientType | Incremental: True | Last Watermark: 2025-05-07 14:00:27.517 | Current Watermark: 2025-05-07 14:00:27.517\n",
      "2025-10-08 19:58:23,835 - INFO - ✅ PLATFORM → 0 | SurveyClientType | Se extrajeron 0 registros de la tabla SurveyClientType | Plataforma  0\n",
      "2025-10-08 19:58:23,839 - INFO - ✅ Conexión satisfactoria | db DB_Engineering | intento 1\n",
      "2025-10-08 19:58:23,839 - INFO - ✅ Nueva conexión creada para sql_DB_Engineering\n",
      "2025-10-08 19:58:23,850 - INFO - 🔹 PLATFORM → 0 | Recurso Survey_SurveyQuestions | Proyecto: TiendasOn\n",
      "2025-10-08 19:58:23,851 - INFO - Usando schema de resource: adm\n",
      "2025-10-08 19:58:23,969 - INFO - ✅ Watermark encontrado para partner=0, tabla=SurveyQuestions\n",
      "2025-10-08 19:58:24,067 - INFO - Ejecutando consulta en SurveyQuestions | Incremental: True | Last Watermark: 2025-05-07 14:00:27.163 | Current Watermark: 2025-05-07 14:00:27.163\n",
      "2025-10-08 19:58:24,159 - INFO - ✅ PLATFORM → 0 | SurveyQuestions | Se extrajeron 0 registros de la tabla SurveyQuestions | Plataforma  0\n",
      "2025-10-08 19:58:24,447 - INFO - ✅ Conexión satisfactoria | db DB_Engineering | intento 1\n",
      "2025-10-08 19:58:24,448 - INFO - ✅ Nueva conexión creada para sql_DB_Engineering\n",
      "2025-10-08 19:58:24,457 - INFO - 🔹 PLATFORM → 0 | Recurso Survey_SurveyReasons | Proyecto: TiendasOn\n",
      "2025-10-08 19:58:24,458 - INFO - Usando schema de resource: adm\n",
      "2025-10-08 19:58:24,576 - INFO - ✅ Watermark encontrado para partner=0, tabla=SurveyReasons\n",
      "2025-10-08 19:58:24,670 - INFO - Ejecutando consulta en SurveyReasons | Incremental: True | Last Watermark: 2025-05-07 14:00:27.467 | Current Watermark: 2025-05-07 14:00:27.467\n",
      "2025-10-08 19:58:24,763 - INFO - ✅ PLATFORM → 0 | SurveyReasons | Se extrajeron 0 registros de la tabla SurveyReasons | Plataforma  0\n",
      "2025-10-08 19:58:24,768 - INFO - ✅ Conexión satisfactoria | db DB_Engineering | intento 1\n",
      "2025-10-08 19:58:24,768 - INFO - ✅ Nueva conexión creada para sql_DB_Engineering\n",
      "2025-10-08 19:58:24,778 - INFO - 🔹 PLATFORM → 0 | Recurso Survey_SurveySource | Proyecto: TiendasOn\n",
      "2025-10-08 19:58:24,779 - INFO - Usando schema de resource: adm\n",
      "2025-10-08 19:58:24,897 - INFO - ✅ Watermark encontrado para partner=0, tabla=SurveySource\n",
      "2025-10-08 19:58:24,991 - INFO - Ejecutando consulta en SurveySource | Incremental: True | Last Watermark: 2025-05-07 14:00:27.497 | Current Watermark: 2025-05-07 14:00:27.497\n",
      "2025-10-08 19:58:25,085 - INFO - ✅ PLATFORM → 0 | SurveySource | Se extrajeron 0 registros de la tabla SurveySource | Plataforma  0\n",
      "2025-10-08 19:58:25,451 - INFO - ✅ Conexión satisfactoria | db DB_Engineering | intento 1\n",
      "2025-10-08 19:58:25,452 - INFO - ✅ Nueva conexión creada para sql_DB_Engineering\n",
      "2025-10-08 19:58:25,462 - INFO - 🔹 PLATFORM → 0 | Recurso Survey_SurveyTextContents | Proyecto: TiendasOn\n",
      "2025-10-08 19:58:25,463 - INFO - Usando schema de resource: adm\n",
      "2025-10-08 19:58:25,583 - INFO - ✅ Watermark encontrado para partner=0, tabla=SurveyTextContents\n",
      "2025-10-08 19:58:25,676 - INFO - Ejecutando consulta en SurveyTextContents | Incremental: True | Last Watermark: 2025-05-07 14:00:27.097 | Current Watermark: 2025-05-07 14:00:27.097\n",
      "2025-10-08 19:58:25,769 - INFO - ✅ PLATFORM → 0 | SurveyTextContents | Se extrajeron 0 registros de la tabla SurveyTextContents | Plataforma  0\n",
      "2025-10-08 19:58:25,773 - INFO - ✅ Conexión satisfactoria | db DB_Engineering | intento 1\n",
      "2025-10-08 19:58:25,774 - INFO - ✅ Nueva conexión creada para sql_DB_Engineering\n",
      "2025-10-08 19:58:25,784 - INFO - 🔹 PLATFORM → 0 | Recurso Survey_SurveyType | Proyecto: TiendasOn\n",
      "2025-10-08 19:58:25,785 - INFO - Usando schema de resource: adm\n",
      "2025-10-08 19:58:25,901 - INFO - ✅ Watermark encontrado para partner=0, tabla=SurveyType\n",
      "2025-10-08 19:58:25,995 - INFO - Ejecutando consulta en SurveyType | Incremental: True | Last Watermark: 2025-05-07 14:00:27.133 | Current Watermark: 2025-05-07 14:00:27.133\n",
      "2025-10-08 19:58:26,087 - INFO - ✅ PLATFORM → 0 | SurveyType | Se extrajeron 0 registros de la tabla SurveyType | Plataforma  0\n",
      "2025-10-08 19:58:26,367 - INFO - ✅ Conexión satisfactoria | db DB_Engineering | intento 1\n",
      "2025-10-08 19:58:26,368 - INFO - ✅ Nueva conexión creada para sql_DB_Engineering\n",
      "2025-10-08 19:58:26,378 - INFO - 🔹 PLATFORM → 0 | Recurso Survey_Surveys | Proyecto: TiendasOn\n",
      "2025-10-08 19:58:26,379 - INFO - Usando schema de resource: adm\n",
      "2025-10-08 19:58:26,497 - INFO - ✅ Watermark encontrado para partner=0, tabla=Surveys\n",
      "2025-10-08 19:58:26,595 - INFO - Ejecutando consulta en Surveys | Incremental: True | Last Watermark: 2025-10-07 04:16:12.163 | Current Watermark: 2025-10-07 04:16:12.163\n",
      "2025-10-08 19:58:26,691 - INFO - ✅ PLATFORM → 0 | Surveys | Se extrajeron 0 registros de la tabla Surveys | Plataforma  0\n",
      "2025-10-08 19:58:26,695 - INFO - ✅ Conexión satisfactoria | db DB_Engineering | intento 1\n",
      "2025-10-08 19:58:26,696 - INFO - ✅ Nueva conexión creada para sql_DB_Engineering\n",
      "2025-10-08 19:58:26,709 - INFO - ✅ Future completado y consolidado\n",
      "2025-10-08 19:58:26,711 - INFO - 📊 Resumen de final_data_by_table:\n",
      "2025-10-08 19:58:26,711 - INFO -   - Generals_InvBrands: 2482 filas × 9 columnas\n",
      "2025-10-08 19:58:26,712 - INFO -   - Generals_InvCategory: 25 filas × 8 columnas\n",
      "2025-10-08 19:58:26,713 - INFO -   - Generals_InvSubCategory: 92 filas × 9 columnas\n",
      "2025-10-08 19:58:26,714 - INFO - ⏳ Esperando antes de guardar los datos en Fabric...\n",
      "2025-10-08 19:58:46,716 - INFO - ✅ Guardando 2482 filas en la tabla Generals_InvBrands en Fabric...\n",
      "2025-10-08 19:58:46,717 - INFO - Guardando en abfss://WS_Data_Engineering@onelake.dfs.fabric.microsoft.com/LH_TiendasOn.Lakehouse/Tables/bronze/Generals_InvBrands\n",
      "2025-10-08 19:58:46,718 - INFO - 💾 Recurso Generals_InvBrands |  Se guardarán 2482 registros...\n",
      "2025-10-08 19:58:48,252 - INFO - ✅ Conexión satisfactoria | db DB_Engineering | intento 1\n",
      "2025-10-08 19:58:48,257 - INFO - ✅ Nueva conexión creada para sql_DB_Engineering\n",
      "2025-10-08 19:58:50,545 - INFO - ✅ Guardado exitoso: 2482 registros en Generals_InvBrands.\n",
      "2025-10-08 19:58:50,615 - INFO - ✅ Guardando 25 filas en la tabla Generals_InvCategory en Fabric...\n",
      "2025-10-08 19:58:50,617 - INFO - Guardando en abfss://WS_Data_Engineering@onelake.dfs.fabric.microsoft.com/LH_TiendasOn.Lakehouse/Tables/bronze/Generals_InvCategory\n",
      "2025-10-08 19:58:50,617 - INFO - 💾 Recurso Generals_InvCategory |  Se guardarán 25 registros...\n",
      "2025-10-08 19:58:51,736 - INFO - ✅ Conexión satisfactoria | db DB_Engineering | intento 1\n",
      "2025-10-08 19:58:51,737 - INFO - ✅ Nueva conexión creada para sql_DB_Engineering\n",
      "2025-10-08 19:58:51,851 - INFO - ✅ Guardado exitoso: 25 registros en Generals_InvCategory.\n",
      "2025-10-08 19:58:51,914 - INFO - ✅ Guardando 92 filas en la tabla Generals_InvSubCategory en Fabric...\n",
      "2025-10-08 19:58:51,917 - INFO - Guardando en abfss://WS_Data_Engineering@onelake.dfs.fabric.microsoft.com/LH_TiendasOn.Lakehouse/Tables/bronze/Generals_InvSubCategory\n",
      "2025-10-08 19:58:51,919 - INFO - 💾 Recurso Generals_InvSubCategory |  Se guardarán 92 registros...\n",
      "2025-10-08 19:58:52,782 - INFO - ✅ Conexión satisfactoria | db DB_Engineering | intento 1\n",
      "2025-10-08 19:58:52,783 - INFO - ✅ Nueva conexión creada para sql_DB_Engineering\n",
      "2025-10-08 19:58:52,895 - INFO - ✅ Guardado exitoso: 92 registros en Generals_InvSubCategory.\n",
      "2025-10-08 19:58:52,962 - INFO - ⏳ Esperando antes de seguir con el siguiente proyecto...\n"
     ]
    }
   ],
   "source": [
    "\n",
    "from collections import defaultdict\n",
    "from concurrent.futures import ThreadPoolExecutor, as_completed\n",
    "import gc\n",
    "from deltalake import DeltaTable, write_deltalake\n",
    "import time\n",
    "from datetime import datetime, timedelta\n",
    "\n",
    "\n",
    "\n",
    "PROCESS_NAME = \"Data Ingestion Process\"\n",
    "WORK_SPACE_ID = '18536da5-57d3-408e-b9cf-94d3fdd66b8a'\n",
    "WAREHOUSE_NAME = 'AnalyticsDB-OnOff'\n",
    "\n",
    "WORK_SPACE_ID_FABRICSQL = \"728e8d08-4f31-496b-992e-a925f812223c\"\n",
    "FABRIC_SQL_DATABASE = 'DB_Engineering'\n",
    "\n",
    "# table_name = 'Loans'\n",
    "project_name = 'TryController'\n",
    "\n",
    "# max_workers = 4\n",
    "# 11-19 \n",
    "# TIME_START = 20 \n",
    "# TIME_END = 5\n",
    "# TOTAL_BLOCKS = 4\n",
    "\n",
    "TIME_START = 11\n",
    "TIME_END = 19\n",
    "TOTAL_BLOCKS = 4\n",
    "BATCH_SIZE = 70\n",
    "MAX_WORKERS = 70         # procesos simultáneos\n",
    "MAX_RETRIES = 3           # reintentos máximos por conexión\n",
    "RETRY_WAIT = 10           # segundos entre reintentos\n",
    "ENVIRONMENT = 'prod'\n",
    "LOG_TABLE = 'DataOn.LastWatermarkState'\n",
    "TIME_SLEEP = 20\n",
    "GL_PROCESS_EXECUTION_ID = uuid.uuid4()\n",
    "\n",
    "\n",
    "\n",
    "# opción nueva (constructor con clase)\n",
    "conn_mgr_fabric = FabricConnectionManager(\n",
    "    notebookutils,\n",
    "    WORK_SPACE_ID_FABRICSQL,\n",
    "    None,\n",
    "    FABRIC_SQL_DATABASE\n",
    ")\n",
    "\n",
    "\n",
    "dbs = ['TryC3', 'TryC2', 'TryC0', 'TryC12', 'TryC14', 'TryC15', 'TryC17', 'TryC22', \n",
    "        'TryC48', 'TryC49', 'TryC50', 'TryC45', 'TryC64', 'Try_Tiendas_VC', 'Try_Servicios_VC']\n",
    "password_central_db_conn = notebookutils.credentials.getSecret('https://kvdataon-prod.vault.azure.net/','prod-trycontroller-db1-pwd-Tcadmindb')\n",
    "central_db_conn = create_db_connection(\"trycontroller-db1.database.windows.net\", 1433, \"TryController_X\", \"Tcadmindb\", password_central_db_conn)\n",
    "\n",
    "\n",
    "# Definir las tablas y sus campos primarios\n",
    "df_schedules = get_schedules(conn_mgr_fabric.get_sql_connection2())\n",
    "\n",
    "\n",
    "# # tablas = [\"Countries\", \"States\", \"Cities\", \"PersonalsDataOfRoutes\"]\n",
    "# tablas = ['DevicesRoutesTokenSession', 'PersonalsDataOfRoutes']\n",
    "# df_schedules = df_schedules[df_schedules[\"table_name\"].isin(tablas) \n",
    "# # & (df_schedules[\"source_type\"].str.lower() == \"database\")\n",
    "# ]\n",
    "# df_schedules = df_schedules[df_schedules['table_name'] == 'Societies']\n",
    "\n",
    "\n",
    "# Identificar programaciones a ejecutar por base de datos\n",
    "df_TiendasOn_db = df_schedules[(df_schedules[\"source_type\"].str.lower() == \"database\") & \n",
    "    (df_schedules[\"project\"] == \"TiendasOn\")] \n",
    "\n",
    "if 'df_TiendasOn_db' in locals() and not df_TiendasOn_db.empty:    \n",
    "    resource_project = \"TiendasOn\"\n",
    "    log(f\"🏗️ Proyecto: {resource_project} | databases\", level=\"info\")\n",
    "    log(\"🔄 Obteniendo todas las conexiones...\",  level=\"info\")\n",
    "    connections = get_connections_db(project=2, engine=central_db_conn, db_list=dbs)\n",
    "\n",
    "    grouped_by_table = defaultdict(list)\n",
    "    if connections is not None:\n",
    "\n",
    "        df_schema= get_sql_table_schema_database(connections.iloc[0],  df_TiendasOn_db)         \n",
    "         \n",
    "        procces_project(\n",
    "            resource_project, df_TiendasOn_db, connections, df_schema, conn_mgr_fabric, PROCESS_NAME, ENVIRONMENT, LOG_TABLE, MAX_RETRIES, RETRY_WAIT, MAX_WORKERS, TIME_SLEEP, notebookutils, write_deltalake, GL_PROCESS_EXECUTION_ID\n",
    "        )\n",
    "\n",
    "\n",
    "    # Esperar antes de seguir con el siguiente proyecto\n",
    "    log(f\"⏳ Esperando antes de seguir con el siguiente proyecto...\", level=\"info\")\n",
    "    time.sleep(60)\n",
    "\n",
    "\n",
    "# Identificar programaciones a ejecutar por base de datos\n",
    "df_TiendasOn_db = df_schedules[(df_schedules[\"source_type\"].str.lower() == \"database\") & \n",
    "    (df_schedules[\"project\"] == \"TryController\")] \n",
    "\n",
    "if 'df_TiendasOn_db' in locals() and not df_TiendasOn_db.empty:    \n",
    "    resource_project = \"TiendasOn\"\n",
    "    log(f\"🏗️ Proyecto: {resource_project} | databases\", level=\"info\")\n",
    "    log(\"🔄 Obteniendo todas las conexiones...\",  level=\"info\")\n",
    "    connections = get_connections_db(project=0, engine=central_db_conn, db_list=dbs)\n",
    "\n",
    "    grouped_by_table = defaultdict(list)\n",
    "    if connections is not None:\n",
    "\n",
    "        df_schema= get_sql_table_schema_database(connections.iloc[0],  df_TiendasOn_db)         \n",
    "         \n",
    "        procces_project(\n",
    "            resource_project, df_TiendasOn_db, connections, df_schema, conn_mgr_fabric, PROCESS_NAME, ENVIRONMENT, LOG_TABLE, MAX_RETRIES, RETRY_WAIT, MAX_WORKERS, TIME_SLEEP, notebookutils, write_deltalake, GL_PROCESS_EXECUTION_ID\n",
    "        )\n",
    "\n",
    "\n",
    "\n",
    "    # Esperar antes de seguir con el siguiente proyecto\n",
    "    log(f\"⏳ Esperando antes de seguir con el siguiente proyecto...\", level=\"info\")\n",
    "    time.sleep(60)\n",
    "\n",
    "\n",
    "\n",
    "# Identificar programaciones por plataforma TiendasOn\n",
    "df_pf_TiendasOn = df_schedules[(df_schedules[\"source_type\"].str.lower() == \"platform\")  &\n",
    "    (df_schedules[\"project\"] == \"TiendasOn\")] \n",
    "\n",
    "\n",
    "resource_project = \"TiendasOn\"\n",
    "if 'df_pf_TiendasOn' in locals() and not df_pf_TiendasOn.empty:\n",
    "    log(f\"🏗️ Proyecto: {resource_project}\", level=\"info\")\n",
    "    log(\"🔄 Obteniendo todas las conexiones...\",  level=\"info\")\n",
    "    df_total = get_connections_partner(2, central_db_conn)\n",
    "     \n",
    "    grouped_by_table = defaultdict(list)\n",
    "    if df_total is not None:\n",
    "        df_total.iloc[0] \n",
    "\n",
    "        df_schema= get_sql_table_schema(df_total.iloc[0],  df_pf_TiendasOn)  \n",
    "        \n",
    "        # block_number = get_block_number(TOTAL_BLOCKS)\n",
    "        block_number = get_block_number_in_window(TOTAL_BLOCKS, TIME_START, TIME_END, datetime.now()- timedelta(hours=5))\n",
    "        if block_number is not None:\n",
    "            log(f\"get_block_number_in_window {block_number}\")\n",
    "            df_block_conns = get_block(df_total, block_number, TOTAL_BLOCKS)\n",
    "            log(f\"Cantdidad de plataformas: {len(df_block_conns)}\", level=\"info\")\n",
    "            procces_project (resource_project, df_pf_TiendasOn, df_block_conns, df_schema, conn_mgr_fabric, PROCESS_NAME, ENVIRONMENT, LOG_TABLE, MAX_RETRIES, RETRY_WAIT, MAX_WORKERS, TIME_SLEEP, notebookutils, write_deltalake, GL_PROCESS_EXECUTION_ID)\n",
    "        else:\n",
    "            log(f\"No hay procesos programado en este bloque\")\n",
    "\n",
    "    # Esperar antes de seguir con el siguiente proyecto\n",
    "    log(f\"⏳ Esperando antes de seguir con el siguiente proyecto...\", level=\"info\")\n",
    "    time.sleep(60)\n",
    "\n",
    "\n",
    "# Identificar programaciones por plataforma TryController\n",
    "df_pf_TryController = df_schedules[(df_schedules[\"source_type\"].str.lower() == \"platform\")  &\n",
    "    (df_schedules[\"project\"] == \"TryController\")]\n",
    "    \n",
    "resource_project = \"TryController\"\n",
    "if 'df_pf_TryController' in locals() and not df_pf_TryController.empty:\n",
    "    log(f\"🏗️ Proyecto: {resource_project}\", level=\"info\")\n",
    "    log(\"🔄 Obteniendo todas las conexiones...\",  level=\"info\")\n",
    "    df_total = get_connections_partner(0, central_db_conn)\n",
    "    grouped_by_table = defaultdict(list)\n",
    "    if df_total is not None:\n",
    "        df_total.iloc[0] \n",
    "\n",
    "        df_schema= get_sql_table_schema(df_total.iloc[0],  df_pf_TryController)  \n",
    "        \n",
    "        block_number = get_block_number_in_window(TOTAL_BLOCKS, TIME_START, TIME_END, datetime.now()- timedelta(hours=5))\n",
    "        if block_number is not None:\n",
    "            df_block_conns = get_block(df_total, block_number, TOTAL_BLOCKS)\n",
    "            log(f\"Cantdidad de plataformas: {len(df_block_conns)}\", level=\"info\")\n",
    "            # procces_project (resource_project, df_pf_TryController, df_block_conns, df_schema, conn_mgr_fabric, PROCESS_NAME, ENVIRONMENT, LOG_TABLE, MAX_RETRIES, RETRY_WAIT, MAX_WORKERS, TIME_SLEEP, notebookutils, write_deltalake, GL_PROCESS_EXECUTION_ID)\n",
    "        else:\n",
    "            log(f\"No hay procesos programado en este bloque\")\n",
    "\n",
    "log(f\"Ingesta finalizada en Microsoft Fabric.\", level=\"info\")\n"
   ]
  },
  {
   "cell_type": "code",
   "execution_count": 7,
   "id": "a8c0d6d0-4440-413e-b0cc-fc8a58b10c7d",
   "metadata": {
    "microsoft": {
     "language": "python",
     "language_group": "jupyter_python"
    }
   },
   "outputs": [
    {
     "data": {
      "application/vnd.jupyter.statement-meta+json": {
       "execution_finish_time": "2025-10-08T19:18:21.3875209Z",
       "execution_start_time": "2025-10-08T19:18:04.1940105Z",
       "normalized_state": "finished",
       "parent_msg_id": "ed5e631b-414d-4faa-9637-530892171609",
       "queued_time": "2025-10-08T19:18:04.1930427Z",
       "session_id": "2cfe949b-21e7-4a38-8b4b-6d209d9fc77d",
       "session_start_time": null
      }
     },
     "metadata": {},
     "output_type": "display_data"
    },
    {
     "name": "stderr",
     "output_type": "stream",
     "text": [
      "2025-10-08 19:18:04,763 - WARNING - ⚠️ Error en intento 1 para DB_Engineering. Esperando 5s antes de reintentar... Error: ('28000', \"[28000] [Microsoft][ODBC Driver 18 for SQL Server][SQL Server]Login failed for user '<token-identified principal>'. (18456) (SQLDriverConnect)\")\n",
      "2025-10-08 19:18:10,129 - WARNING - ⚠️ Error en intento 2 para DB_Engineering. Esperando 10s antes de reintentar... Error: ('28000', \"[28000] [Microsoft][ODBC Driver 18 for SQL Server][SQL Server]Login failed for user '<token-identified principal>'. (18456) (SQLDriverConnect)\")\n",
      "2025-10-08 19:18:20,503 - ERROR - ❌ Error al establecer la conexión de DB_Engineering después de 3 intentos: ('28000', \"[28000] [Microsoft][ODBC Driver 18 for SQL Server][SQL Server]Login failed for user '<token-identified principal>'. (18456) (SQLDriverConnect)\")\n",
      "2025-10-08 19:18:20,504 - ERROR - ❌ No se pudo obtener conexión para sql_DB_Engineering. Pool lleno.\n"
     ]
    }
   ],
   "source": [
    "# opción nueva (constructor con clase)\n",
    "conn_mgr_fabric = FabricConnectionManager(\n",
    "    notebookutils,\n",
    "    WORK_SPACE_ID_FABRICSQL,\n",
    "    None,\n",
    "    FABRIC_SQL_DATABASE\n",
    ")\n",
    "\n",
    "conn_mgr_fabric.get_sql_connection2()"
   ]
  },
  {
   "cell_type": "code",
   "execution_count": null,
   "id": "eae072e2-1468-482a-aad8-6905fc90fd5d",
   "metadata": {
    "microsoft": {
     "language": "python",
     "language_group": "jupyter_python"
    }
   },
   "outputs": [
    {
     "data": {
      "application/vnd.jupyter.statement-meta+json": {
       "execution_finish_time": null,
       "execution_start_time": null,
       "normalized_state": "cancelling",
       "parent_msg_id": "3e0bd658-ef9e-4419-99c6-99e027e45ef2",
       "queued_time": "2025-10-08T19:16:58.8725552Z",
       "session_id": "2cfe949b-21e7-4a38-8b4b-6d209d9fc77d",
       "session_start_time": null
      }
     },
     "metadata": {},
     "output_type": "display_data"
    }
   ],
   "source": [
    "from datetime import datetime, timedelta\n",
    "from partition_utils import get_block_number_in_window\n",
    "\n",
    "TOTAL_BLOCKS = 4\n",
    "# password_central_db_conn = notebookutils.credentials.getSecret('https://kvdataon-prod.vault.azure.net/','prod-trycontroller-db1-pwd-Tcadmindb')\n",
    "# central_db_conn = create_db_connection(\"trycontroller-db1.database.windows.net\", 1433, \"TryController_X\", \"Tcadmindb\", password_central_db_conn)\n",
    "# df_total = get_connections_partner(2, central_db_conn)\n",
    "\n",
    "TIME_START = 11\n",
    "TIME_END = 19\n",
    "\n",
    "cases = [\n",
    "    (\"12:25\", TOTAL_BLOCKS, TIME_START, TIME_END),\n",
    "    (\"14:00\", TOTAL_BLOCKS, TIME_START, TIME_END),\n",
    "    (\"16:00\", TOTAL_BLOCKS, TIME_START, TIME_END),\n",
    "    (\"18:00\", TOTAL_BLOCKS, TIME_START, TIME_END),\n",
    "    (\"18:58\", TOTAL_BLOCKS, TIME_START, TIME_END),\n",
    "#     (\"09:00\", 4, 0, 8),\n",
    "#     (\"23:30\", 4, 22, 6),\n",
    "#     (\"02:30\", 4, 22, 6),\n",
    "#     (\"21:59\", 4, 22, 6),\n",
    "#     (\"12:00\", 6, 0, 0),\n",
    "]\n",
    "\n",
    "for now_s, blocks, start, end in cases:\n",
    "    now = datetime.strptime(now_s, \"%H:%M\")\n",
    "    # print(datetime.now())\n",
    "    now = now.replace(year=2025, month=9, day=24)\n",
    "    # print(now)\n",
    "    blk = get_block_number_in_window(blocks, start, end, now=now)\n",
    "    log(f\"{now_s} blocks {blocks} {start:02d}:00-{end:02d}:00 -> {blk}\", level=\"info\")\n",
    "\n",
    "    # df_block_conns = get_block(df_total, blk, TOTAL_BLOCKS)\n",
    "\n",
    "log(\"Fuera\", level=\"info\")    \n",
    "times = datetime.now() - timedelta(hours=5)\n",
    "log(f\"{times}\", level=\"info\")\n",
    "\n",
    "blk = get_block_number_in_window(4, 9, 16, times)\n",
    "log(f\"{blk}\", level=\"info\")\n",
    "\n",
    "\n",
    "\n",
    "\n",
    "\n"
   ]
  }
 ],
 "metadata": {
  "dependencies": {
   "lakehouse": {
    "default_lakehouse": "ed5eb38b-9f95-4d45-9169-258d78ee8777",
    "default_lakehouse_name": "LH_CommonCode",
    "default_lakehouse_workspace_id": "728e8d08-4f31-496b-992e-a925f812223c",
    "known_lakehouses": [
     {
      "id": "ed5eb38b-9f95-4d45-9169-258d78ee8777"
     }
    ]
   }
  },
  "kernel_info": {
   "jupyter_kernel_name": "python3.11",
   "name": "jupyter"
  },
  "kernelspec": {
   "display_name": "Jupyter",
   "name": "jupyter"
  },
  "language_info": {
   "name": "python"
  },
  "microsoft": {
   "language": "python",
   "language_group": "jupyter_python",
   "ms_spell_check": {
    "ms_spell_check_language": "es"
   }
  },
  "nteract": {
   "version": "nteract-front-end@1.0.0"
  },
  "spark_compute": {
   "compute_id": "/trident/default",
   "session_options": {
    "conf": {
     "spark.synapse.nbs.session.timeout": "300000"
    }
   }
  }
 },
 "nbformat": 4,
 "nbformat_minor": 5
}
